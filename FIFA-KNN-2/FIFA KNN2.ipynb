{
 "cells": [
  {
   "cell_type": "code",
   "execution_count": 1,
   "metadata": {
    "collapsed": true
   },
   "outputs": [],
   "source": [
    "import pandas as pd\n",
    "import numpy as np"
   ]
  },
  {
   "cell_type": "code",
   "execution_count": 5,
   "metadata": {
    "collapsed": true
   },
   "outputs": [],
   "source": [
    "train = pd.read_csv('TRAIN22.csv')\n",
    "test = pd.read_csv('TEST22.csv')"
   ]
  },
  {
   "cell_type": "code",
   "execution_count": 42,
   "metadata": {},
   "outputs": [
    {
     "data": {
      "text/plain": [
       "Index(['Position', 'Ball_Control', 'Dribbling', 'Marking', 'Sliding_Tackle',\n",
       "       'Tackle', 'Aggression', 'Reactions', 'Attacking_Position',\n",
       "       'Interceptions', 'Vision', 'Composure', 'Crossing', 'Short_Pass',\n",
       "       'Long_Pass', 'Acceleration', 'Speed', 'RESISTENCIA', 'FORCA', 'Balance',\n",
       "       'Agility', 'Jumping', 'Heading', 'Shot_Power', 'Finishing',\n",
       "       'Long_Shots', 'Curve', 'Freekick_Accuracy', 'Penalties', 'Volleys',\n",
       "       'GK_Positioning', 'GK_Diving', 'GK_Kicking', 'GK_Handling',\n",
       "       'GK_Reflexes'],\n",
       "      dtype='object')"
      ]
     },
     "execution_count": 42,
     "metadata": {},
     "output_type": "execute_result"
    }
   ],
   "source": [
    "train.columns"
   ]
  },
  {
   "cell_type": "code",
   "execution_count": 43,
   "metadata": {
    "collapsed": true
   },
   "outputs": [],
   "source": [
    "from sklearn.neighbors import KNeighborsClassifier\n",
    "cols = ['Ball_Control','Dribbling','Marking','Aggression','Reactions', 'Attacking_Position',\n",
    "       'Interceptions', 'Vision', 'Composure', 'Crossing', 'Short_Pass',\n",
    "       'Long_Pass', 'Acceleration', 'Speed', 'RESISTENCIA', 'FORCA', 'Balance',\n",
    "       'Agility', 'Jumping', 'Heading', 'Shot_Power', 'Finishing',\n",
    "       'Long_Shots', 'Curve', 'Freekick_Accuracy', 'Penalties', 'Volleys',\n",
    "       'GK_Positioning', 'GK_Diving', 'GK_Kicking', 'GK_Handling',\n",
    "       'GK_Reflexes']\n",
    "cols2 = ['Position']\n",
    "x_train = train.as_matrix(cols)\n",
    "y_train = train.as_matrix(cols2)\n",
    "x_test = test.as_matrix(cols)\n",
    "y_test = test.as_matrix(cols2)"
   ]
  },
  {
   "cell_type": "code",
   "execution_count": 60,
   "metadata": {
    "collapsed": true
   },
   "outputs": [],
   "source": [
    "knn = KNeighborsClassifier(n_neighbors=5,weights='distance')\n",
    "knn.fit(x_train, y_train.ravel())\n",
    "output = knn.predict(x_test)"
   ]
  },
  {
   "cell_type": "code",
   "execution_count": 202,
   "metadata": {},
   "outputs": [],
   "source": [
    "#Lista valor previsto e valor real.\n",
    "#output.size\n",
    "    \n",
    "#for i in np.arange(10581):\n",
    " #   print(\"Valor previsto: \", output[i])\n",
    "  #  print('Valor real: ',y_test[i])"
   ]
  },
  {
   "cell_type": "code",
   "execution_count": 54,
   "metadata": {},
   "outputs": [
    {
     "data": {
      "text/plain": [
       "0.8545506095832152"
      ]
     },
     "execution_count": 54,
     "metadata": {},
     "output_type": "execute_result"
    }
   ],
   "source": [
    "correct = 0.0\n",
    "for i in range(len(output)):\n",
    "    if y_test[i][0] == output[i]:\n",
    "        correct += 1\n",
    "correct / len(output)"
   ]
  },
  {
   "cell_type": "code",
   "execution_count": 62,
   "metadata": {},
   "outputs": [
    {
     "name": "stdout",
     "output_type": "stream",
     "text": [
      "% de acerto: 85.3794537378\n"
     ]
    }
   ],
   "source": [
    "print(\"% de acerto:\",100*knn.score(x_test,y_test))"
   ]
  }
 ],
 "metadata": {
  "kernelspec": {
   "display_name": "Python 3",
   "language": "python",
   "name": "python3"
  },
  "language_info": {
   "codemirror_mode": {
    "name": "ipython",
    "version": 3
   },
   "file_extension": ".py",
   "mimetype": "text/x-python",
   "name": "python",
   "nbconvert_exporter": "python",
   "pygments_lexer": "ipython3",
   "version": "3.6.0"
  }
 },
 "nbformat": 4,
 "nbformat_minor": 2
}
